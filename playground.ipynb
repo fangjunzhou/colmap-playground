{
 "cells": [
  {
   "cell_type": "code",
   "execution_count": 1,
   "id": "a593cff0-1fca-4821-84fe-6561211797ce",
   "metadata": {},
   "outputs": [],
   "source": [
    "import pathlib\n",
    "\n",
    "import numpy as np\n",
    "from matplotlib import pyplot as plt\n",
    "import scipy.spatial.transform as transform\n",
    "\n",
    "import pycolmap\n",
    "import pyvista as pv\n",
    "import ipywidgets as widgets\n",
    "from IPython.display import display\n",
    "from utils import debounce"
   ]
  },
  {
   "cell_type": "code",
   "execution_count": 2,
   "id": "290393bb-8a58-43ff-8940-9a7335dc190e",
   "metadata": {},
   "outputs": [],
   "source": [
    "pv.set_jupyter_backend(\"trame\")"
   ]
  },
  {
   "cell_type": "code",
   "execution_count": 3,
   "id": "8696f403-5871-455a-a4f6-c03a0204e12e",
   "metadata": {},
   "outputs": [],
   "source": [
    "image_dir: pathlib.Path = pathlib.Path(\"./images/south-building/\")\n",
    "working_dir: pathlib.Path = pathlib.Path(\"./temp/\")\n",
    "output_dir: pathlib.Path = pathlib.Path(\"./output/south-building/\")\n",
    "\n",
    "# Check path.\n",
    "if not image_dir.exists():\n",
    "    raise Exception(\"Input image directory doesn't exist.\")\n",
    "if not working_dir.exists():\n",
    "    working_dir.mkdir(parents=True)\n",
    "db_path = working_dir / \"database.db\"\n",
    "if not output_dir.exists():\n",
    "    output_dir.mkdir(parents=True)"
   ]
  },
  {
   "cell_type": "code",
   "execution_count": 4,
   "id": "27eb5df4-22bf-4376-96b8-7a9e1e545ef7",
   "metadata": {},
   "outputs": [
    {
     "name": "stdout",
     "output_type": "stream",
     "text": [
      "Reconstruction:\n",
      "\tnum_reg_images = 128\n",
      "\tnum_cameras = 1\n",
      "\tnum_points3D = 102877\n",
      "\tnum_observations = 629479\n",
      "\tmean_track_length = 6.11875\n",
      "\tmean_observations_per_image = 4917.8\n",
      "\tmean_reprojection_error = 0.664317\n"
     ]
    }
   ],
   "source": [
    "# COLMAP pipeline\n",
    "# pycolmap.extract_features(db_path, image_dir, camera_model=\"SIMPLE_PINHOLE\")\n",
    "# pycolmap.match_exhaustive(db_path)\n",
    "# maps = pycolmap.incremental_mapping(db_path, image_dir, output_dir)[0]\n",
    "\n",
    "# Load reconstruction cache.\n",
    "maps = pycolmap.Reconstruction(output_dir / \"0\")\n",
    "print(maps.summary())"
   ]
  },
  {
   "cell_type": "code",
   "execution_count": 5,
   "id": "61e526ca-d16c-4644-b5e5-7bc7aa921ae4",
   "metadata": {},
   "outputs": [
    {
     "data": {
      "text/plain": [
       "((102849, 3), (102849, 3))"
      ]
     },
     "execution_count": 5,
     "metadata": {},
     "output_type": "execute_result"
    }
   ],
   "source": [
    "num_points = len(maps.points3D)\n",
    "points = np.empty((num_points, 3))\n",
    "colors = np.empty((num_points, 3))\n",
    "\n",
    "# Extract point cloud.\n",
    "for i, point in enumerate(maps.points3D.values()):\n",
    "    points[i] = point.xyz\n",
    "    colors[i] = point.color\n",
    "# Filter points within 10 units.\n",
    "dists = np.linalg.norm(points, axis=1)\n",
    "points = points[dists<=10, :]\n",
    "colors = colors[dists<=10, :]\n",
    "# Scale colors to [0, 1]\n",
    "colors = colors / 256\n",
    "\n",
    "points.shape, colors.shape"
   ]
  },
  {
   "cell_type": "code",
   "execution_count": 6,
   "id": "46a6d42a-6201-4dcd-b0f8-ce18711cf468",
   "metadata": {},
   "outputs": [],
   "source": [
    "images = maps.images.values()\n",
    "num_images = len(images)\n",
    "# Extract camera view.\n",
    "cam_view_v = np.zeros((num_images * 5, 3))\n",
    "cam_view_e = np.zeros((num_images * 8, 3), dtype=int)\n",
    "cam_poss = np.zeros((num_images, 3))\n",
    "cam_ups = np.zeros((num_images, 3))\n",
    "\n",
    "for i, image in enumerate(images):\n",
    "    cam_id = image.camera_id\n",
    "    f, cx, cy = maps.cameras[cam_id].params\n",
    "    dx = cx/f\n",
    "    dy = cy/f\n",
    "    # Get camera pose.\n",
    "    cam_pos = image.cam_from_world.inverse().translation\n",
    "    cam_rot = image.cam_from_world.inverse().rotation.quat\n",
    "    rot_mat = transform.Rotation.from_quat(cam_rot).as_matrix()\n",
    "    cam_z = np.matmul(rot_mat, np.array([0, 0, 1]))\n",
    "    cam_y = np.matmul(rot_mat, np.array([0, -1, 0]))\n",
    "    cam_x = np.matmul(rot_mat, np.array([-1, 0, 0]))\n",
    "    cam_poss[i, :] = cam_pos\n",
    "    cam_ups[i, :] = cam_y\n",
    "    # Compose camera frame.\n",
    "    cam_view_v[i*5 + 0, :] = cam_pos\n",
    "    cam_view_v[i*5 + 1, :] = cam_pos + cam_z + cam_x * dx + cam_y * dy\n",
    "    cam_view_v[i*5 + 2, :] = cam_pos + cam_z + cam_x * dx - cam_y * dy\n",
    "    cam_view_v[i*5 + 3, :] = cam_pos + cam_z - cam_x * dx + cam_y * dy\n",
    "    cam_view_v[i*5 + 4, :] = cam_pos + cam_z - cam_x * dx - cam_y * dy\n",
    "    cam_view_e[i*8 + 0, :] = [2, i*5 + 0, i*5 + 1]\n",
    "    cam_view_e[i*8 + 1, :] = [2, i*5 + 0, i*5 + 2]\n",
    "    cam_view_e[i*8 + 2, :] = [2, i*5 + 0, i*5 + 3]\n",
    "    cam_view_e[i*8 + 3, :] = [2, i*5 + 0, i*5 + 4]\n",
    "    cam_view_e[i*8 + 4, :] = [2, i*5 + 1, i*5 + 2]\n",
    "    cam_view_e[i*8 + 5, :] = [2, i*5 + 3, i*5 + 4]\n",
    "    cam_view_e[i*8 + 6, :] = [2, i*5 + 1, i*5 + 3]\n",
    "    cam_view_e[i*8 + 7, :] = [2, i*5 + 2, i*5 + 4]"
   ]
  },
  {
   "cell_type": "code",
   "execution_count": 7,
   "id": "f9d62d64-4c2e-4e16-81bc-965f4868d839",
   "metadata": {},
   "outputs": [
    {
     "data": {
      "application/vnd.jupyter.widget-view+json": {
       "model_id": "14bfd1cdc1cf411593c0ce60d4fa7b2a",
       "version_major": 2,
       "version_minor": 0
      },
      "text/plain": [
       "Checkbox(value=False, description='Show Single Camera', indent=False)"
      ]
     },
     "metadata": {},
     "output_type": "display_data"
    },
    {
     "data": {
      "application/vnd.jupyter.widget-view+json": {
       "model_id": "8bcc4d316b4f42d39102975e0b35e887",
       "version_major": 2,
       "version_minor": 0
      },
      "text/plain": [
       "IntSlider(value=0, description='Camera ID: ', disabled=True, max=127)"
      ]
     },
     "metadata": {},
     "output_type": "display_data"
    },
    {
     "data": {
      "application/vnd.jupyter.widget-view+json": {
       "model_id": "7acc98589bbf4f3c9170d17c3cccb7ca",
       "version_major": 2,
       "version_minor": 0
      },
      "text/plain": [
       "Widget(value='<iframe src=\"http://localhost:52864/index.html?ui=P_0x15e4bd710_0&reconnect=auto\" class=\"pyvista…"
      ]
     },
     "metadata": {},
     "output_type": "display_data"
    }
   ],
   "source": [
    "pl = pv.Plotter()\n",
    "\n",
    "def draw(cam_poss, cam_ups, cam_view_v, cam_view_e):\n",
    "    pl.clear()\n",
    "    # Plot point cloud.\n",
    "    pl.add_points(\n",
    "        points,\n",
    "        scalars=colors,\n",
    "        rgba=True\n",
    "    )\n",
    "    \n",
    "    # Plot cameras.\n",
    "    cam_points = pv.PolyData(cam_poss)\n",
    "    cam_points[\"up\"] = cam_ups\n",
    "    cam_up_arrows = cam_points.glyph(\n",
    "        orient=\"up\",\n",
    "        scale=False,\n",
    "        factor=0.5\n",
    "    )\n",
    "    pl.add_mesh(cam_points, color=\"red\", point_size=5)\n",
    "    pl.add_mesh(cam_up_arrows, color=\"blue\")\n",
    "    # Plot camera frames.\n",
    "    cam_mesh = pv.PolyData(cam_view_v, cam_view_e)\n",
    "    pl.add_mesh(cam_mesh, color=\"red\", style=\"wireframe\")\n",
    "\n",
    "draw(cam_poss, cam_ups, cam_view_v, cam_view_e)\n",
    "\n",
    "# Camera control widgets.\n",
    "cam_select_widget = widgets.Checkbox(\n",
    "    value=False,\n",
    "    description=\"Show Single Camera\",\n",
    "    disabled=False,\n",
    "    indent=False\n",
    ")\n",
    "display(cam_select_widget)\n",
    "cam_id_widget = widgets.IntSlider(\n",
    "    min=0,\n",
    "    max=num_images-1,\n",
    "    description=\"Camera ID: \",\n",
    "    disabled=True\n",
    ")\n",
    "display(cam_id_widget)\n",
    "@debounce(0.5)\n",
    "def on_cam_selected_change(change):\n",
    "    cam_select = change[\"new\"]\n",
    "    cam_id_widget.disabled = not cam_select\n",
    "    if cam_select:\n",
    "        cam_id = cam_id_widget.value\n",
    "        draw(\n",
    "            cam_poss[cam_id, :].reshape((-1, 3)),\n",
    "            cam_ups[cam_id, :].reshape((-1, 3)),\n",
    "            cam_view_v[cam_id*5:(cam_id+1)*5, :].reshape((-1, 3)),\n",
    "            np.array([\n",
    "                [2, 0, 1],\n",
    "                [2, 0, 2],\n",
    "                [2, 0, 3],\n",
    "                [2, 0, 4],\n",
    "                [2, 1, 2],\n",
    "                [2, 3, 4],\n",
    "                [2, 1, 3],\n",
    "                [2, 2, 4],\n",
    "            ])\n",
    "        )\n",
    "    else:\n",
    "        draw(cam_poss, cam_ups, cam_view_v, cam_view_e)\n",
    "    pl.update()\n",
    "@debounce(0.5)\n",
    "def on_cam_id_change(change):\n",
    "    cam_id = change[\"new\"]\n",
    "    draw(\n",
    "        cam_poss[cam_id, :].reshape((-1, 3)),\n",
    "        cam_ups[cam_id, :].reshape((-1, 3)),\n",
    "        cam_view_v[cam_id*5:(cam_id+1)*5, :].reshape((-1, 3)),\n",
    "            np.array([\n",
    "                [2, 0, 1],\n",
    "                [2, 0, 2],\n",
    "                [2, 0, 3],\n",
    "                [2, 0, 4],\n",
    "                [2, 1, 2],\n",
    "                [2, 3, 4],\n",
    "                [2, 1, 3],\n",
    "                [2, 2, 4],\n",
    "            ])\n",
    "    )\n",
    "cam_select_widget.observe(on_cam_selected_change, names=\"value\")\n",
    "cam_id_widget.observe(on_cam_id_change, names=\"value\")\n",
    "\n",
    "pl.show()"
   ]
  }
 ],
 "metadata": {
  "kernelspec": {
   "display_name": "Python 3 (ipykernel)",
   "language": "python",
   "name": "python3"
  },
  "language_info": {
   "codemirror_mode": {
    "name": "ipython",
    "version": 3
   },
   "file_extension": ".py",
   "mimetype": "text/x-python",
   "name": "python",
   "nbconvert_exporter": "python",
   "pygments_lexer": "ipython3",
   "version": "3.11.9"
  }
 },
 "nbformat": 4,
 "nbformat_minor": 5
}
